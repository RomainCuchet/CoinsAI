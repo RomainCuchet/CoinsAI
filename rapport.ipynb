{
 "cells": [
  {
   "cell_type": "markdown",
   "metadata": {},
   "source": [
    "# Coin Detection using deep learning\n",
    "\n",
    "Baht coins are very hard to identify has the 1 and 5 baht coins are composed of same mater (also the 2 for the newer version) and all have the king's face on one side. For a human it is easy to differenciate them based on their size. That is not the case for a computeer as he can't understand the scale of a coin without a scale. Moreover every network are taking a matrix of given side as an input. As a result we must reshape our images to match the desired shape. Some photographs are rectangular, others are squared and the dimensions are very different. Once resized, a coin on a rectangular picture will be resized and proportions wont be preserved wich increases complexity.\n",
    "\n",
    "For a computer and image is just a matrix of pixels. If we consider the RGB format that each pixel is a tuple of three value ranging from 0 to 255. \n",
    "\n",
    "# R-CNN\n",
    "\n",
    "R-CNN (Region-based Convolutional Neural Network) is a deep learning architecture that rcombines region proposals with convolutional neural networks. The region proposal layer returns bounding boxes that are likely to contain objects. Then a CNN (Convolutional Neural Network) operates features extraction and return an output feature vector for every region. After that an SVM (Support Vector Machine) determine wether or not a region belong to one specific categorie using a one-vs-all SVM classifiers. To finish a bounding box regressor is applied to better fit the object. To sum up the R-CNN pipeline is the folowwing : \n",
    "1. Input\n",
    "2. Region Proposal (Selective Search)\n",
    "3. Feature Extraction (CNN)\n",
    "4. Classification (SVM for each class)\n",
    "5. Bounding Box Refinement (Bounding box regression)\n",
    "6. Output\n",
    "\n",
    "A convolution neural network enables to extract features from an image by applaying a convolution to it throught a matrix multiplication. Let's take a look at an exemple :"
   ]
  }
 ],
 "metadata": {
  "language_info": {
   "name": "python"
  }
 },
 "nbformat": 4,
 "nbformat_minor": 2
}
